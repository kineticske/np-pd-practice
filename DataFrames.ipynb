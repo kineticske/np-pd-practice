{
 "cells": [
  {
   "cell_type": "code",
   "execution_count": 3,
   "id": "05cf047d",
   "metadata": {},
   "outputs": [],
   "source": [
    "import pandas as pd \n",
    "import numpy as np\n",
    "\n"
   ]
  },
  {
   "cell_type": "code",
   "execution_count": 9,
   "id": "8ed6d43f",
   "metadata": {},
   "outputs": [
    {
     "name": "stdout",
     "output_type": "stream",
     "text": [
      "                 Final        Máximo        Mínimo       Volumen    Efectivo\n",
      "Mínimo        1.016500      4.067500      1.016500  1.221000e+03    2343.090\n",
      "Máximo    19705.000000  19875.000000  19675.000000  3.612969e+07  145765.440\n",
      "Promedio   2796.768757   3170.113357   3136.510471  4.252279e+06   31767.778\n"
     ]
    }
   ],
   "source": [
    "def DataEstadistico():\n",
    "    df2=pd.read_csv(r'C:\\Users\\Credd\\OneDrive\\Documentos\\SISTEMAS\\PRACTICAS\\python\\Numpy\\cotizacion.csv', sep=';', index_col=0, decimal=',', thousands='.')\n",
    "    return pd.DataFrame([df2.min(), df2.max(), df2.mean()], index=['Mínimo', 'Máximo', 'Promedio'])\n",
    "\n",
    "#df is in general\n",
    "\n",
    "print(DataEstadistico())"
   ]
  },
  {
   "cell_type": "code",
   "execution_count": null,
   "id": "eaf96a8d",
   "metadata": {},
   "outputs": [],
   "source": []
  }
 ],
 "metadata": {
  "kernelspec": {
   "display_name": "Python 3",
   "language": "python",
   "name": "python3"
  },
  "language_info": {
   "codemirror_mode": {
    "name": "ipython",
    "version": 3
   },
   "file_extension": ".py",
   "mimetype": "text/x-python",
   "name": "python",
   "nbconvert_exporter": "python",
   "pygments_lexer": "ipython3",
   "version": "3.8.8"
  }
 },
 "nbformat": 4,
 "nbformat_minor": 5
}
