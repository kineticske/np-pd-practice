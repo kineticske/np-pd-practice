{
 "cells": [
  {
   "cell_type": "markdown",
   "id": "2d2ce682",
   "metadata": {},
   "source": [
    "# SVR SUPPPORT VECTOR REGRESSION MODEL"
   ]
  },
  {
   "cell_type": "markdown",
   "id": "74d09fea",
   "metadata": {},
   "source": [
    "Importing the libraries"
   ]
  },
  {
   "cell_type": "code",
   "execution_count": 1,
   "id": "56973c28",
   "metadata": {},
   "outputs": [],
   "source": [
    "import numpy as np\n",
    "import matplotlib.pyplot as plt\n",
    "import pandas as pd"
   ]
  },
  {
   "cell_type": "markdown",
   "id": "9fc9e071",
   "metadata": {},
   "source": [
    "Importing the dataset"
   ]
  },
  {
   "cell_type": "code",
   "execution_count": 5,
   "id": "f625b155",
   "metadata": {},
   "outputs": [
    {
     "data": {
      "text/plain": [
       "(array([[ 1],\n",
       "        [ 2],\n",
       "        [ 3],\n",
       "        [ 4],\n",
       "        [ 5],\n",
       "        [ 6],\n",
       "        [ 7],\n",
       "        [ 8],\n",
       "        [ 9],\n",
       "        [10]], dtype=int64),\n",
       " array([  45000,   50000,   60000,   80000,  110000,  150000,  200000,\n",
       "         300000,  500000, 1000000], dtype=int64))"
      ]
     },
     "execution_count": 5,
     "metadata": {},
     "output_type": "execute_result"
    }
   ],
   "source": [
    "dataset = pd.read_csv('Position_Salaries.csv')\n",
    "x = dataset.iloc[:, 1:-1].values # level\n",
    "y = dataset.iloc[:, -1].values # salary\n",
    "x,y"
   ]
  },
  {
   "cell_type": "markdown",
   "id": "13904fac",
   "metadata": {},
   "source": [
    "reshape y column into a single column"
   ]
  },
  {
   "cell_type": "code",
   "execution_count": 6,
   "id": "e85f993d",
   "metadata": {},
   "outputs": [
    {
     "data": {
      "text/plain": [
       "array([[  45000],\n",
       "       [  50000],\n",
       "       [  60000],\n",
       "       [  80000],\n",
       "       [ 110000],\n",
       "       [ 150000],\n",
       "       [ 200000],\n",
       "       [ 300000],\n",
       "       [ 500000],\n",
       "       [1000000]], dtype=int64)"
      ]
     },
     "execution_count": 6,
     "metadata": {},
     "output_type": "execute_result"
    }
   ],
   "source": [
    "y=y.reshape(len(y), 1)\n",
    "y"
   ]
  },
  {
   "cell_type": "markdown",
   "id": "2dfc2d11",
   "metadata": {},
   "source": [
    "# Feature Scaling"
   ]
  },
  {
   "cell_type": "code",
   "execution_count": 8,
   "id": "f4f00dd9",
   "metadata": {},
   "outputs": [
    {
     "data": {
      "text/plain": [
       "(array([[-1.5666989 ],\n",
       "        [-1.21854359],\n",
       "        [-0.87038828],\n",
       "        [-0.52223297],\n",
       "        [-0.17407766],\n",
       "        [ 0.17407766],\n",
       "        [ 0.52223297],\n",
       "        [ 0.87038828],\n",
       "        [ 1.21854359],\n",
       "        [ 1.5666989 ]]),\n",
       " array([[-0.72004253],\n",
       "        [-0.70243757],\n",
       "        [-0.66722767],\n",
       "        [-0.59680786],\n",
       "        [-0.49117815],\n",
       "        [-0.35033854],\n",
       "        [-0.17428902],\n",
       "        [ 0.17781001],\n",
       "        [ 0.88200808],\n",
       "        [ 2.64250325]]))"
      ]
     },
     "execution_count": 8,
     "metadata": {},
     "output_type": "execute_result"
    }
   ],
   "source": [
    "from sklearn.preprocessing import StandardScaler\n",
    "sc_x=StandardScaler()\n",
    "sc_y=StandardScaler()\n",
    "x=sc_x.fit_transform(x)\n",
    "y=sc_y.fit_transform(y)\n",
    "x,y"
   ]
  },
  {
   "cell_type": "markdown",
   "id": "375cc23d",
   "metadata": {},
   "source": [
    "# Training the SVR Model on the whole dataset"
   ]
  },
  {
   "cell_type": "code",
   "execution_count": 9,
   "id": "b9b96a6a",
   "metadata": {},
   "outputs": [
    {
     "name": "stderr",
     "output_type": "stream",
     "text": [
      "C:\\Users\\Credd\\anaconda3\\lib\\site-packages\\sklearn\\utils\\validation.py:63: DataConversionWarning: A column-vector y was passed when a 1d array was expected. Please change the shape of y to (n_samples, ), for example using ravel().\n",
      "  return f(*args, **kwargs)\n"
     ]
    },
    {
     "data": {
      "text/plain": [
       "SVR()"
      ]
     },
     "execution_count": 9,
     "metadata": {},
     "output_type": "execute_result"
    }
   ],
   "source": [
    "from sklearn.svm import SVR\n",
    "regressor = SVR(kernel='rbf') #with that kernel\n",
    "regressor.fit(x,y)"
   ]
  },
  {
   "cell_type": "markdown",
   "id": "f4e46bfb",
   "metadata": {},
   "source": [
    "# Predicting a new result"
   ]
  },
  {
   "cell_type": "code",
   "execution_count": 11,
   "id": "6c2dbed7",
   "metadata": {},
   "outputs": [
    {
     "data": {
      "text/plain": [
       "array([170370.0204065])"
      ]
     },
     "execution_count": 11,
     "metadata": {},
     "output_type": "execute_result"
    }
   ],
   "source": [
    "sc_y.inverse_transform(regressor.predict(sc_x.transform([[6.5]]))) "
   ]
  },
  {
   "cell_type": "code",
   "execution_count": null,
   "id": "545aa821",
   "metadata": {},
   "outputs": [],
   "source": []
  }
 ],
 "metadata": {
  "kernelspec": {
   "display_name": "Python 3",
   "language": "python",
   "name": "python3"
  },
  "language_info": {
   "codemirror_mode": {
    "name": "ipython",
    "version": 3
   },
   "file_extension": ".py",
   "mimetype": "text/x-python",
   "name": "python",
   "nbconvert_exporter": "python",
   "pygments_lexer": "ipython3",
   "version": "3.8.8"
  }
 },
 "nbformat": 4,
 "nbformat_minor": 5
}
